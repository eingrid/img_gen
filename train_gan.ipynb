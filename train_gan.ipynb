{
 "cells": [
  {
   "cell_type": "code",
   "execution_count": 1,
   "metadata": {},
   "outputs": [],
   "source": [
    "from models import GANModelWrapper, Discriminator, Generator\n",
    "from train import train, validate, save_checkpoint\n",
    "from data_loader import load_cifar10_data\n",
    "from torch.nn import MSELoss\n",
    "from torch.optim import Adam\n",
    "import torch\n",
    "from torch.utils.tensorboard import SummaryWriter\n",
    "from gan_criterion_optimizer import GANCriterion, GANOptimizer\n",
    "from loggers import GAN_LOGGER\n",
    "from metrics import FIDMetric\n"
   ]
  },
  {
   "cell_type": "code",
   "execution_count": 2,
   "metadata": {},
   "outputs": [
    {
     "name": "stdout",
     "output_type": "stream",
     "text": [
      "Files already downloaded and verified\n",
      "Files already downloaded and verified\n",
      "Total number of training samples: 45000\n",
      "Total number of validation samples: 5000\n",
      "Total number of test samples: 10000\n"
     ]
    }
   ],
   "source": [
    "train_loader, val_loader, test_loader = load_cifar10_data()\n",
    "# Print the total size (number of samples) of each dataset\n",
    "print(\"Total number of training samples:\", len(train_loader.dataset))\n",
    "print(\"Total number of validation samples:\", len(val_loader.dataset))\n",
    "print(\"Total number of test samples:\", len(test_loader.dataset))"
   ]
  },
  {
   "cell_type": "code",
   "execution_count": 3,
   "metadata": {},
   "outputs": [
    {
     "name": "stderr",
     "output_type": "stream",
     "text": [
      "/home/nazara/Data/UCU/GENAI/env/lib/python3.12/site-packages/torchvision/models/_utils.py:208: UserWarning: The parameter 'pretrained' is deprecated since 0.13 and may be removed in the future, please use 'weights' instead.\n",
      "  warnings.warn(\n",
      "/home/nazara/Data/UCU/GENAI/env/lib/python3.12/site-packages/torchvision/models/_utils.py:223: UserWarning: Arguments other than a weight enum or `None` for 'weights' are deprecated since 0.13 and may be removed in the future. The current behavior is equivalent to passing `weights=ResNet18_Weights.IMAGENET1K_V1`. You can also use `weights=ResNet18_Weights.DEFAULT` to get the most up-to-date weights.\n",
      "  warnings.warn(msg)\n",
      "Epoch 1 [Train]: 100%|██████████| 704/704 [00:20<00:00, 33.56it/s]\n",
      "Epoch 1 [Validation]:   9%|▉         | 7/79 [00:00<00:01, 44.67it/s]\n"
     ]
    },
    {
     "name": "stdout",
     "output_type": "stream",
     "text": [
      "Validation loss improved from inf to 614.3230. Saving model...\n"
     ]
    },
    {
     "name": "stderr",
     "output_type": "stream",
     "text": [
      "Epoch 2 [Train]: 100%|██████████| 704/704 [00:19<00:00, 35.36it/s]\n",
      "Epoch 2 [Validation]:   9%|▉         | 7/79 [00:00<00:01, 49.03it/s]\n",
      "Epoch 3 [Train]: 100%|██████████| 704/704 [00:19<00:00, 35.24it/s]\n",
      "Epoch 3 [Validation]:   9%|▉         | 7/79 [00:00<00:01, 47.59it/s]\n",
      "Epoch 4 [Train]: 100%|██████████| 704/704 [00:20<00:00, 34.99it/s]\n",
      "Epoch 4 [Validation]:   9%|▉         | 7/79 [00:00<00:01, 45.70it/s]\n",
      "Epoch 5 [Train]: 100%|██████████| 704/704 [00:20<00:00, 34.87it/s]\n",
      "Epoch 5 [Validation]:   9%|▉         | 7/79 [00:00<00:01, 48.61it/s]\n",
      "Epoch 6 [Train]: 100%|██████████| 704/704 [00:20<00:00, 34.90it/s]\n",
      "Epoch 6 [Validation]:   9%|▉         | 7/79 [00:00<00:01, 47.19it/s]\n",
      "Epoch 7 [Train]: 100%|██████████| 704/704 [00:20<00:00, 34.82it/s]\n",
      "Epoch 7 [Validation]:   9%|▉         | 7/79 [00:00<00:01, 45.90it/s]\n",
      "Epoch 8 [Train]: 100%|██████████| 704/704 [00:20<00:00, 34.85it/s]\n",
      "Epoch 8 [Validation]:   9%|▉         | 7/79 [00:00<00:01, 47.94it/s]\n",
      "Epoch 9 [Train]: 100%|██████████| 704/704 [00:20<00:00, 34.89it/s]\n",
      "Epoch 9 [Validation]:   9%|▉         | 7/79 [00:00<00:01, 48.36it/s]\n"
     ]
    },
    {
     "name": "stdout",
     "output_type": "stream",
     "text": [
      "Validation loss improved from 614.3230 to 594.6996. Saving model...\n"
     ]
    },
    {
     "name": "stderr",
     "output_type": "stream",
     "text": [
      "Epoch 10 [Train]: 100%|██████████| 704/704 [00:20<00:00, 34.99it/s]\n",
      "Epoch 10 [Validation]:   9%|▉         | 7/79 [00:00<00:01, 45.43it/s]\n"
     ]
    },
    {
     "name": "stdout",
     "output_type": "stream",
     "text": [
      "Validation loss improved from 594.6996 to 561.9698. Saving model...\n"
     ]
    },
    {
     "name": "stderr",
     "output_type": "stream",
     "text": [
      "Epoch 11 [Train]: 100%|██████████| 704/704 [00:20<00:00, 34.98it/s]\n",
      "Epoch 11 [Validation]:   9%|▉         | 7/79 [00:00<00:01, 46.94it/s]\n"
     ]
    },
    {
     "name": "stdout",
     "output_type": "stream",
     "text": [
      "Validation loss improved from 561.9698 to 517.3387. Saving model...\n"
     ]
    },
    {
     "name": "stderr",
     "output_type": "stream",
     "text": [
      "Epoch 12 [Train]: 100%|██████████| 704/704 [00:20<00:00, 35.16it/s]\n",
      "Epoch 12 [Validation]:   9%|▉         | 7/79 [00:00<00:01, 46.82it/s]\n"
     ]
    },
    {
     "name": "stdout",
     "output_type": "stream",
     "text": [
      "Validation loss improved from 517.3387 to 516.2320. Saving model...\n"
     ]
    },
    {
     "name": "stderr",
     "output_type": "stream",
     "text": [
      "Epoch 13 [Train]: 100%|██████████| 704/704 [00:20<00:00, 35.18it/s]\n",
      "Epoch 13 [Validation]:   9%|▉         | 7/79 [00:00<00:01, 47.64it/s]\n",
      "Epoch 14 [Train]: 100%|██████████| 704/704 [00:20<00:00, 35.05it/s]\n",
      "Epoch 14 [Validation]:   9%|▉         | 7/79 [00:00<00:01, 45.91it/s]\n"
     ]
    },
    {
     "name": "stdout",
     "output_type": "stream",
     "text": [
      "Validation loss improved from 516.2320 to 506.4333. Saving model...\n"
     ]
    },
    {
     "name": "stderr",
     "output_type": "stream",
     "text": [
      "Epoch 15 [Train]: 100%|██████████| 704/704 [00:20<00:00, 35.10it/s]\n",
      "Epoch 15 [Validation]:   9%|▉         | 7/79 [00:00<00:01, 48.61it/s]\n",
      "Epoch 16 [Train]: 100%|██████████| 704/704 [00:20<00:00, 34.95it/s]\n",
      "Epoch 16 [Validation]:   9%|▉         | 7/79 [00:00<00:01, 48.39it/s]\n",
      "Epoch 17 [Train]: 100%|██████████| 704/704 [00:19<00:00, 35.28it/s]\n",
      "Epoch 17 [Validation]:   9%|▉         | 7/79 [00:00<00:01, 46.51it/s]\n"
     ]
    },
    {
     "name": "stdout",
     "output_type": "stream",
     "text": [
      "Validation loss improved from 506.4333 to 479.2458. Saving model...\n"
     ]
    },
    {
     "name": "stderr",
     "output_type": "stream",
     "text": [
      "Epoch 18 [Train]: 100%|██████████| 704/704 [00:20<00:00, 35.16it/s]\n",
      "Epoch 18 [Validation]:   9%|▉         | 7/79 [00:00<00:01, 45.17it/s]\n"
     ]
    },
    {
     "name": "stdout",
     "output_type": "stream",
     "text": [
      "Validation loss improved from 479.2458 to 474.8386. Saving model...\n"
     ]
    },
    {
     "name": "stderr",
     "output_type": "stream",
     "text": [
      "Epoch 19 [Train]: 100%|██████████| 704/704 [00:20<00:00, 35.01it/s]\n",
      "Epoch 19 [Validation]:   9%|▉         | 7/79 [00:00<00:01, 44.85it/s]\n"
     ]
    },
    {
     "name": "stdout",
     "output_type": "stream",
     "text": [
      "Validation loss improved from 474.8386 to 455.9089. Saving model...\n"
     ]
    },
    {
     "name": "stderr",
     "output_type": "stream",
     "text": [
      "Epoch 20 [Train]: 100%|██████████| 704/704 [00:20<00:00, 35.15it/s]\n",
      "Epoch 20 [Validation]:   9%|▉         | 7/79 [00:00<00:01, 47.23it/s]\n",
      "Epoch 21 [Train]: 100%|██████████| 704/704 [00:20<00:00, 34.96it/s]\n",
      "Epoch 21 [Validation]:   9%|▉         | 7/79 [00:00<00:01, 47.80it/s]\n",
      "Epoch 22 [Train]: 100%|██████████| 704/704 [00:20<00:00, 35.03it/s]\n",
      "Epoch 22 [Validation]:   9%|▉         | 7/79 [00:00<00:01, 46.81it/s]\n"
     ]
    },
    {
     "name": "stdout",
     "output_type": "stream",
     "text": [
      "Validation loss improved from 455.9089 to 435.2881. Saving model...\n"
     ]
    },
    {
     "name": "stderr",
     "output_type": "stream",
     "text": [
      "Epoch 23 [Train]: 100%|██████████| 704/704 [00:20<00:00, 34.99it/s]\n",
      "Epoch 23 [Validation]:   9%|▉         | 7/79 [00:00<00:01, 47.13it/s]\n"
     ]
    },
    {
     "name": "stdout",
     "output_type": "stream",
     "text": [
      "Validation loss improved from 435.2881 to 418.6980. Saving model...\n"
     ]
    },
    {
     "name": "stderr",
     "output_type": "stream",
     "text": [
      "Epoch 24 [Train]: 100%|██████████| 704/704 [00:20<00:00, 34.90it/s]\n",
      "Epoch 24 [Validation]:   9%|▉         | 7/79 [00:00<00:01, 49.29it/s]\n",
      "Epoch 25 [Train]: 100%|██████████| 704/704 [00:20<00:00, 35.11it/s]\n",
      "Epoch 25 [Validation]:   9%|▉         | 7/79 [00:00<00:01, 43.91it/s]\n"
     ]
    },
    {
     "name": "stdout",
     "output_type": "stream",
     "text": [
      "Validation loss improved from 418.6980 to 393.3754. Saving model...\n"
     ]
    },
    {
     "name": "stderr",
     "output_type": "stream",
     "text": [
      "Epoch 26 [Train]: 100%|██████████| 704/704 [00:20<00:00, 35.12it/s]\n",
      "Epoch 26 [Validation]:   9%|▉         | 7/79 [00:00<00:01, 47.12it/s]\n",
      "Epoch 27 [Train]: 100%|██████████| 704/704 [00:20<00:00, 35.18it/s]\n",
      "Epoch 27 [Validation]:   9%|▉         | 7/79 [00:00<00:01, 43.99it/s]\n"
     ]
    },
    {
     "name": "stdout",
     "output_type": "stream",
     "text": [
      "Validation loss improved from 393.3754 to 389.7952. Saving model...\n"
     ]
    },
    {
     "name": "stderr",
     "output_type": "stream",
     "text": [
      "Epoch 28 [Train]: 100%|██████████| 704/704 [00:20<00:00, 34.98it/s]\n",
      "Epoch 28 [Validation]:   9%|▉         | 7/79 [00:00<00:01, 45.36it/s]\n",
      "Epoch 29 [Train]: 100%|██████████| 704/704 [00:20<00:00, 35.01it/s]\n",
      "Epoch 29 [Validation]:   9%|▉         | 7/79 [00:00<00:01, 47.17it/s]\n"
     ]
    },
    {
     "name": "stdout",
     "output_type": "stream",
     "text": [
      "Validation loss improved from 389.7952 to 333.6779. Saving model...\n"
     ]
    },
    {
     "name": "stderr",
     "output_type": "stream",
     "text": [
      "Epoch 30 [Train]: 100%|██████████| 704/704 [00:20<00:00, 35.09it/s]\n",
      "Epoch 30 [Validation]:   9%|▉         | 7/79 [00:00<00:01, 46.66it/s]\n",
      "Epoch 31 [Train]: 100%|██████████| 704/704 [00:20<00:00, 35.02it/s]\n",
      "Epoch 31 [Validation]:   9%|▉         | 7/79 [00:00<00:01, 45.39it/s]\n",
      "Epoch 32 [Train]: 100%|██████████| 704/704 [00:20<00:00, 34.95it/s]\n",
      "Epoch 32 [Validation]:   9%|▉         | 7/79 [00:00<00:01, 47.82it/s]\n",
      "Epoch 33 [Train]: 100%|██████████| 704/704 [00:20<00:00, 34.79it/s]\n",
      "Epoch 33 [Validation]:   9%|▉         | 7/79 [00:00<00:01, 44.53it/s]\n",
      "Epoch 34 [Train]: 100%|██████████| 704/704 [00:20<00:00, 35.08it/s]\n",
      "Epoch 34 [Validation]:   9%|▉         | 7/79 [00:00<00:01, 47.57it/s]\n",
      "Epoch 35 [Train]: 100%|██████████| 704/704 [00:20<00:00, 35.05it/s]\n",
      "Epoch 35 [Validation]:   9%|▉         | 7/79 [00:00<00:01, 47.39it/s]\n",
      "Epoch 36 [Train]: 100%|██████████| 704/704 [00:20<00:00, 35.05it/s]\n",
      "Epoch 36 [Validation]:   9%|▉         | 7/79 [00:00<00:01, 48.14it/s]\n"
     ]
    },
    {
     "name": "stdout",
     "output_type": "stream",
     "text": [
      "Validation loss improved from 333.6779 to 330.0964. Saving model...\n"
     ]
    },
    {
     "name": "stderr",
     "output_type": "stream",
     "text": [
      "Epoch 37 [Train]: 100%|██████████| 704/704 [00:20<00:00, 35.04it/s]\n",
      "Epoch 37 [Validation]:   9%|▉         | 7/79 [00:00<00:01, 44.60it/s]\n",
      "Epoch 38 [Train]: 100%|██████████| 704/704 [00:19<00:00, 35.25it/s]\n",
      "Epoch 38 [Validation]:   9%|▉         | 7/79 [00:00<00:01, 48.89it/s]\n"
     ]
    },
    {
     "name": "stdout",
     "output_type": "stream",
     "text": [
      "Validation loss improved from 330.0964 to 326.0216. Saving model...\n"
     ]
    },
    {
     "name": "stderr",
     "output_type": "stream",
     "text": [
      "Epoch 39 [Train]: 100%|██████████| 704/704 [00:20<00:00, 34.98it/s]\n",
      "Epoch 39 [Validation]:   9%|▉         | 7/79 [00:00<00:01, 48.08it/s]\n",
      "Epoch 40 [Train]: 100%|██████████| 704/704 [00:19<00:00, 35.25it/s]\n",
      "Epoch 40 [Validation]:   9%|▉         | 7/79 [00:00<00:01, 46.81it/s]\n",
      "Epoch 41 [Train]: 100%|██████████| 704/704 [00:20<00:00, 35.08it/s]\n",
      "Epoch 41 [Validation]:   9%|▉         | 7/79 [00:00<00:01, 48.54it/s]\n",
      "Epoch 42 [Train]: 100%|██████████| 704/704 [00:20<00:00, 35.10it/s]\n",
      "Epoch 42 [Validation]:   9%|▉         | 7/79 [00:00<00:01, 46.20it/s]\n"
     ]
    },
    {
     "name": "stdout",
     "output_type": "stream",
     "text": [
      "Validation loss improved from 326.0216 to 314.0091. Saving model...\n"
     ]
    },
    {
     "name": "stderr",
     "output_type": "stream",
     "text": [
      "Epoch 43 [Train]: 100%|██████████| 704/704 [00:20<00:00, 35.08it/s]\n",
      "Epoch 43 [Validation]:   9%|▉         | 7/79 [00:00<00:01, 43.36it/s]\n",
      "Epoch 44 [Train]: 100%|██████████| 704/704 [00:20<00:00, 35.12it/s]\n",
      "Epoch 44 [Validation]:   9%|▉         | 7/79 [00:00<00:01, 48.84it/s]\n",
      "Epoch 45 [Train]: 100%|██████████| 704/704 [00:20<00:00, 34.89it/s]\n",
      "Epoch 45 [Validation]:   9%|▉         | 7/79 [00:00<00:01, 47.14it/s]\n",
      "Epoch 46 [Train]: 100%|██████████| 704/704 [00:20<00:00, 35.18it/s]\n",
      "Epoch 46 [Validation]:   9%|▉         | 7/79 [00:00<00:01, 44.40it/s]\n",
      "Epoch 47 [Train]: 100%|██████████| 704/704 [00:20<00:00, 34.96it/s]\n",
      "Epoch 47 [Validation]:   9%|▉         | 7/79 [00:00<00:01, 42.87it/s]\n",
      "Epoch 48 [Train]: 100%|██████████| 704/704 [00:20<00:00, 34.99it/s]\n",
      "Epoch 48 [Validation]:   9%|▉         | 7/79 [00:00<00:01, 47.77it/s]\n"
     ]
    },
    {
     "name": "stdout",
     "output_type": "stream",
     "text": [
      "Validation loss improved from 314.0091 to 272.9424. Saving model...\n"
     ]
    },
    {
     "name": "stderr",
     "output_type": "stream",
     "text": [
      "Epoch 49 [Train]: 100%|██████████| 704/704 [00:20<00:00, 34.97it/s]\n",
      "Epoch 49 [Validation]:   9%|▉         | 7/79 [00:00<00:01, 48.93it/s]\n",
      "Epoch 50 [Train]: 100%|██████████| 704/704 [00:20<00:00, 34.98it/s]\n",
      "Epoch 50 [Validation]:   9%|▉         | 7/79 [00:00<00:01, 48.31it/s]\n",
      "Epoch 51 [Train]: 100%|██████████| 704/704 [00:20<00:00, 35.00it/s]\n",
      "Epoch 51 [Validation]:   9%|▉         | 7/79 [00:00<00:01, 48.69it/s]\n",
      "Epoch 52 [Train]: 100%|██████████| 704/704 [00:20<00:00, 34.85it/s]\n",
      "Epoch 52 [Validation]:   9%|▉         | 7/79 [00:00<00:01, 45.59it/s]\n"
     ]
    },
    {
     "name": "stdout",
     "output_type": "stream",
     "text": [
      "Validation loss improved from 272.9424 to 271.9594. Saving model...\n"
     ]
    },
    {
     "name": "stderr",
     "output_type": "stream",
     "text": [
      "Epoch 53 [Train]: 100%|██████████| 704/704 [00:19<00:00, 35.23it/s]\n",
      "Epoch 53 [Validation]:   9%|▉         | 7/79 [00:00<00:01, 45.60it/s]\n",
      "Epoch 54 [Train]: 100%|██████████| 704/704 [00:20<00:00, 34.86it/s]\n",
      "Epoch 54 [Validation]:   9%|▉         | 7/79 [00:00<00:01, 47.88it/s]\n"
     ]
    },
    {
     "name": "stdout",
     "output_type": "stream",
     "text": [
      "Validation loss improved from 271.9594 to 259.4442. Saving model...\n"
     ]
    },
    {
     "name": "stderr",
     "output_type": "stream",
     "text": [
      "Epoch 55 [Train]: 100%|██████████| 704/704 [00:20<00:00, 35.17it/s]\n",
      "Epoch 55 [Validation]:   9%|▉         | 7/79 [00:00<00:01, 42.45it/s]\n",
      "Epoch 56 [Train]: 100%|██████████| 704/704 [00:20<00:00, 34.94it/s]\n",
      "Epoch 56 [Validation]:   9%|▉         | 7/79 [00:00<00:01, 39.58it/s]\n",
      "Epoch 57 [Train]: 100%|██████████| 704/704 [00:20<00:00, 34.93it/s]\n",
      "Epoch 57 [Validation]:   9%|▉         | 7/79 [00:00<00:01, 46.44it/s]\n",
      "Epoch 58 [Train]: 100%|██████████| 704/704 [00:20<00:00, 34.98it/s]\n",
      "Epoch 58 [Validation]:   9%|▉         | 7/79 [00:00<00:01, 47.30it/s]\n",
      "Epoch 59 [Train]: 100%|██████████| 704/704 [00:20<00:00, 34.89it/s]\n",
      "Epoch 59 [Validation]:   9%|▉         | 7/79 [00:00<00:01, 44.34it/s]\n",
      "Epoch 60 [Train]: 100%|██████████| 704/704 [00:19<00:00, 35.23it/s]\n",
      "Epoch 60 [Validation]:   9%|▉         | 7/79 [00:00<00:01, 49.34it/s]\n",
      "Epoch 61 [Train]: 100%|██████████| 704/704 [00:20<00:00, 34.93it/s]\n",
      "Epoch 61 [Validation]:   9%|▉         | 7/79 [00:00<00:01, 49.51it/s]\n"
     ]
    },
    {
     "name": "stdout",
     "output_type": "stream",
     "text": [
      "Validation loss improved from 259.4442 to 258.1718. Saving model...\n"
     ]
    },
    {
     "name": "stderr",
     "output_type": "stream",
     "text": [
      "Epoch 62 [Train]: 100%|██████████| 704/704 [00:19<00:00, 35.26it/s]\n",
      "Epoch 62 [Validation]:   9%|▉         | 7/79 [00:00<00:01, 47.28it/s]\n",
      "Epoch 63 [Train]: 100%|██████████| 704/704 [00:20<00:00, 34.87it/s]\n",
      "Epoch 63 [Validation]:   9%|▉         | 7/79 [00:00<00:01, 45.44it/s]\n",
      "Epoch 64 [Train]: 100%|██████████| 704/704 [00:19<00:00, 35.24it/s]\n",
      "Epoch 64 [Validation]:   9%|▉         | 7/79 [00:00<00:01, 43.92it/s]\n",
      "Epoch 65 [Train]: 100%|██████████| 704/704 [00:20<00:00, 35.19it/s]\n",
      "Epoch 65 [Validation]:   9%|▉         | 7/79 [00:00<00:01, 44.67it/s]\n"
     ]
    },
    {
     "name": "stdout",
     "output_type": "stream",
     "text": [
      "Validation loss improved from 258.1718 to 250.3817. Saving model...\n"
     ]
    },
    {
     "name": "stderr",
     "output_type": "stream",
     "text": [
      "Epoch 66 [Train]: 100%|██████████| 704/704 [00:19<00:00, 35.22it/s]\n",
      "Epoch 66 [Validation]:   9%|▉         | 7/79 [00:00<00:01, 48.55it/s]\n",
      "Epoch 67 [Train]: 100%|██████████| 704/704 [00:20<00:00, 35.05it/s]\n",
      "Epoch 67 [Validation]:   9%|▉         | 7/79 [00:00<00:01, 46.37it/s]\n",
      "Epoch 68 [Train]: 100%|██████████| 704/704 [00:20<00:00, 35.01it/s]\n",
      "Epoch 68 [Validation]:   9%|▉         | 7/79 [00:00<00:01, 49.14it/s]\n"
     ]
    },
    {
     "name": "stdout",
     "output_type": "stream",
     "text": [
      "Validation loss improved from 250.3817 to 248.8837. Saving model...\n"
     ]
    },
    {
     "name": "stderr",
     "output_type": "stream",
     "text": [
      "Epoch 69 [Train]: 100%|██████████| 704/704 [00:20<00:00, 35.04it/s]\n",
      "Epoch 69 [Validation]:   9%|▉         | 7/79 [00:00<00:01, 45.97it/s]\n",
      "Epoch 70 [Train]: 100%|██████████| 704/704 [00:20<00:00, 35.03it/s]\n",
      "Epoch 70 [Validation]:   9%|▉         | 7/79 [00:00<00:01, 45.33it/s]\n",
      "Epoch 71 [Train]: 100%|██████████| 704/704 [00:20<00:00, 34.93it/s]\n",
      "Epoch 71 [Validation]:   9%|▉         | 7/79 [00:00<00:01, 48.10it/s]\n"
     ]
    },
    {
     "name": "stdout",
     "output_type": "stream",
     "text": [
      "Validation loss improved from 248.8837 to 246.7298. Saving model...\n"
     ]
    },
    {
     "name": "stderr",
     "output_type": "stream",
     "text": [
      "Epoch 72 [Train]: 100%|██████████| 704/704 [00:20<00:00, 35.11it/s]\n",
      "Epoch 72 [Validation]:   9%|▉         | 7/79 [00:00<00:01, 47.48it/s]\n",
      "Epoch 73 [Train]: 100%|██████████| 704/704 [00:20<00:00, 35.17it/s]\n",
      "Epoch 73 [Validation]:   9%|▉         | 7/79 [00:00<00:01, 46.20it/s]\n"
     ]
    },
    {
     "name": "stdout",
     "output_type": "stream",
     "text": [
      "Validation loss improved from 246.7298 to 235.5552. Saving model...\n"
     ]
    },
    {
     "name": "stderr",
     "output_type": "stream",
     "text": [
      "Epoch 74 [Train]: 100%|██████████| 704/704 [00:20<00:00, 35.09it/s]\n",
      "Epoch 74 [Validation]:   9%|▉         | 7/79 [00:00<00:01, 48.71it/s]\n",
      "Epoch 75 [Train]: 100%|██████████| 704/704 [00:20<00:00, 34.94it/s]\n",
      "Epoch 75 [Validation]:   9%|▉         | 7/79 [00:00<00:01, 47.71it/s]\n",
      "Epoch 76 [Train]: 100%|██████████| 704/704 [00:20<00:00, 34.90it/s]\n",
      "Epoch 76 [Validation]:   9%|▉         | 7/79 [00:00<00:01, 49.00it/s]\n",
      "Epoch 77 [Train]: 100%|██████████| 704/704 [00:20<00:00, 34.98it/s]\n",
      "Epoch 77 [Validation]:   9%|▉         | 7/79 [00:00<00:01, 48.09it/s]\n",
      "Epoch 78 [Train]: 100%|██████████| 704/704 [00:20<00:00, 34.91it/s]\n",
      "Epoch 78 [Validation]:   9%|▉         | 7/79 [00:00<00:01, 48.92it/s]\n",
      "Epoch 79 [Train]: 100%|██████████| 704/704 [00:20<00:00, 34.92it/s]\n",
      "Epoch 79 [Validation]:   9%|▉         | 7/79 [00:00<00:01, 47.21it/s]\n",
      "Epoch 80 [Train]: 100%|██████████| 704/704 [00:20<00:00, 34.81it/s]\n",
      "Epoch 80 [Validation]:   9%|▉         | 7/79 [00:00<00:01, 47.94it/s]\n",
      "Epoch 81 [Train]: 100%|██████████| 704/704 [00:20<00:00, 34.90it/s]\n",
      "Epoch 81 [Validation]:   9%|▉         | 7/79 [00:00<00:01, 48.04it/s]\n",
      "Epoch 82 [Train]: 100%|██████████| 704/704 [00:20<00:00, 34.93it/s]\n",
      "Epoch 82 [Validation]:   9%|▉         | 7/79 [00:00<00:01, 47.58it/s]\n",
      "Epoch 83 [Train]: 100%|██████████| 704/704 [00:20<00:00, 35.05it/s]\n",
      "Epoch 83 [Validation]:   9%|▉         | 7/79 [00:00<00:01, 41.85it/s]\n",
      "Epoch 84 [Train]: 100%|██████████| 704/704 [00:20<00:00, 34.99it/s]\n",
      "Epoch 84 [Validation]:   9%|▉         | 7/79 [00:00<00:01, 47.01it/s]\n",
      "Epoch 85 [Train]: 100%|██████████| 704/704 [00:20<00:00, 34.97it/s]\n",
      "Epoch 85 [Validation]:   9%|▉         | 7/79 [00:00<00:01, 48.73it/s]\n",
      "Epoch 86 [Train]: 100%|██████████| 704/704 [00:20<00:00, 35.01it/s]\n",
      "Epoch 86 [Validation]:   9%|▉         | 7/79 [00:00<00:01, 46.62it/s]\n"
     ]
    },
    {
     "name": "stdout",
     "output_type": "stream",
     "text": [
      "Validation loss improved from 235.5552 to 231.2591. Saving model...\n"
     ]
    },
    {
     "name": "stderr",
     "output_type": "stream",
     "text": [
      "Epoch 87 [Train]: 100%|██████████| 704/704 [00:20<00:00, 35.17it/s]\n",
      "Epoch 87 [Validation]:   9%|▉         | 7/79 [00:00<00:01, 45.62it/s]\n",
      "Epoch 88 [Train]: 100%|██████████| 704/704 [00:20<00:00, 35.16it/s]\n",
      "Epoch 88 [Validation]:   9%|▉         | 7/79 [00:00<00:01, 45.05it/s]\n",
      "Epoch 89 [Train]: 100%|██████████| 704/704 [00:20<00:00, 35.12it/s]\n",
      "Epoch 89 [Validation]:   9%|▉         | 7/79 [00:00<00:01, 47.66it/s]\n"
     ]
    },
    {
     "name": "stdout",
     "output_type": "stream",
     "text": [
      "Validation loss improved from 231.2591 to 225.1437. Saving model...\n"
     ]
    },
    {
     "name": "stderr",
     "output_type": "stream",
     "text": [
      "Epoch 90 [Train]: 100%|██████████| 704/704 [00:20<00:00, 35.06it/s]\n",
      "Epoch 90 [Validation]:   9%|▉         | 7/79 [00:00<00:01, 44.82it/s]\n",
      "Epoch 91 [Train]: 100%|██████████| 704/704 [00:20<00:00, 34.84it/s]\n",
      "Epoch 91 [Validation]:   9%|▉         | 7/79 [00:00<00:01, 48.37it/s]\n"
     ]
    },
    {
     "name": "stdout",
     "output_type": "stream",
     "text": [
      "Validation loss improved from 225.1437 to 210.7185. Saving model...\n"
     ]
    },
    {
     "name": "stderr",
     "output_type": "stream",
     "text": [
      "Epoch 92 [Train]: 100%|██████████| 704/704 [00:20<00:00, 35.16it/s]\n",
      "Epoch 92 [Validation]:   9%|▉         | 7/79 [00:00<00:01, 46.26it/s]\n",
      "Epoch 93 [Train]: 100%|██████████| 704/704 [00:19<00:00, 35.22it/s]\n",
      "Epoch 93 [Validation]:   9%|▉         | 7/79 [00:00<00:01, 46.25it/s]\n",
      "Epoch 94 [Train]: 100%|██████████| 704/704 [00:20<00:00, 35.02it/s]\n",
      "Epoch 94 [Validation]:   9%|▉         | 7/79 [00:00<00:01, 47.07it/s]\n",
      "Epoch 95 [Train]: 100%|██████████| 704/704 [00:20<00:00, 34.95it/s]\n",
      "Epoch 95 [Validation]:   9%|▉         | 7/79 [00:00<00:01, 47.48it/s]\n",
      "Epoch 96 [Train]: 100%|██████████| 704/704 [00:20<00:00, 35.00it/s]\n",
      "Epoch 96 [Validation]:   9%|▉         | 7/79 [00:00<00:01, 46.83it/s]\n"
     ]
    },
    {
     "name": "stdout",
     "output_type": "stream",
     "text": [
      "Validation loss improved from 210.7185 to 208.6589. Saving model...\n"
     ]
    },
    {
     "name": "stderr",
     "output_type": "stream",
     "text": [
      "Epoch 97 [Train]: 100%|██████████| 704/704 [00:20<00:00, 34.99it/s]\n",
      "Epoch 97 [Validation]:   9%|▉         | 7/79 [00:00<00:01, 45.58it/s]\n",
      "Epoch 98 [Train]: 100%|██████████| 704/704 [00:20<00:00, 35.03it/s]\n",
      "Epoch 98 [Validation]:   9%|▉         | 7/79 [00:00<00:01, 47.75it/s]\n",
      "Epoch 99 [Train]: 100%|██████████| 704/704 [00:20<00:00, 34.90it/s]\n",
      "Epoch 99 [Validation]:   9%|▉         | 7/79 [00:00<00:01, 46.59it/s]\n",
      "Epoch 100 [Train]: 100%|██████████| 704/704 [00:20<00:00, 34.92it/s]\n",
      "Epoch 100 [Validation]:   9%|▉         | 7/79 [00:00<00:01, 45.24it/s]\n",
      "Epoch 101 [Train]: 100%|██████████| 704/704 [00:20<00:00, 34.82it/s]\n",
      "Epoch 101 [Validation]:   9%|▉         | 7/79 [00:00<00:01, 45.75it/s]\n"
     ]
    },
    {
     "name": "stdout",
     "output_type": "stream",
     "text": [
      "Validation loss improved from 208.6589 to 191.0569. Saving model...\n"
     ]
    },
    {
     "name": "stderr",
     "output_type": "stream",
     "text": [
      "Epoch 102 [Train]: 100%|██████████| 704/704 [00:20<00:00, 34.83it/s]\n",
      "Epoch 102 [Validation]:   9%|▉         | 7/79 [00:00<00:01, 47.85it/s]\n",
      "Epoch 103 [Train]: 100%|██████████| 704/704 [00:20<00:00, 34.92it/s]\n",
      "Epoch 103 [Validation]:   9%|▉         | 7/79 [00:00<00:01, 47.30it/s]\n",
      "Epoch 104 [Train]: 100%|██████████| 704/704 [00:20<00:00, 34.91it/s]\n",
      "Epoch 104 [Validation]:   9%|▉         | 7/79 [00:00<00:01, 43.95it/s]\n",
      "Epoch 105 [Train]: 100%|██████████| 704/704 [00:20<00:00, 34.91it/s]\n",
      "Epoch 105 [Validation]:   9%|▉         | 7/79 [00:00<00:01, 47.94it/s]\n",
      "Epoch 106 [Train]: 100%|██████████| 704/704 [00:20<00:00, 34.89it/s]\n",
      "Epoch 106 [Validation]:   9%|▉         | 7/79 [00:00<00:01, 47.04it/s]\n",
      "Epoch 107 [Train]: 100%|██████████| 704/704 [00:20<00:00, 34.82it/s]\n",
      "Epoch 107 [Validation]:   9%|▉         | 7/79 [00:00<00:01, 44.70it/s]\n",
      "Epoch 108 [Train]: 100%|██████████| 704/704 [00:20<00:00, 34.84it/s]\n",
      "Epoch 108 [Validation]:   9%|▉         | 7/79 [00:00<00:01, 44.43it/s]\n",
      "Epoch 109 [Train]: 100%|██████████| 704/704 [00:20<00:00, 34.79it/s]\n",
      "Epoch 109 [Validation]:   9%|▉         | 7/79 [00:00<00:01, 46.79it/s]\n",
      "Epoch 110 [Train]: 100%|██████████| 704/704 [00:20<00:00, 35.10it/s]\n",
      "Epoch 110 [Validation]:   9%|▉         | 7/79 [00:00<00:01, 47.47it/s]\n",
      "Epoch 111 [Train]: 100%|██████████| 704/704 [00:20<00:00, 35.04it/s]\n",
      "Epoch 111 [Validation]:   9%|▉         | 7/79 [00:00<00:01, 45.66it/s]\n",
      "Epoch 112 [Train]: 100%|██████████| 704/704 [00:20<00:00, 35.05it/s]\n",
      "Epoch 112 [Validation]:   9%|▉         | 7/79 [00:00<00:01, 45.77it/s]\n",
      "Epoch 113 [Train]: 100%|██████████| 704/704 [00:20<00:00, 35.05it/s]\n",
      "Epoch 113 [Validation]:   9%|▉         | 7/79 [00:00<00:01, 47.51it/s]\n",
      "Epoch 114 [Train]: 100%|██████████| 704/704 [00:20<00:00, 34.97it/s]\n",
      "Epoch 114 [Validation]:   9%|▉         | 7/79 [00:00<00:01, 47.18it/s]\n",
      "Epoch 115 [Train]: 100%|██████████| 704/704 [00:20<00:00, 35.03it/s]\n",
      "Epoch 115 [Validation]:   9%|▉         | 7/79 [00:00<00:01, 46.97it/s]\n",
      "Epoch 116 [Train]: 100%|██████████| 704/704 [00:20<00:00, 35.01it/s]\n",
      "Epoch 116 [Validation]:   9%|▉         | 7/79 [00:00<00:01, 47.93it/s]\n",
      "Epoch 117 [Train]: 100%|██████████| 704/704 [00:20<00:00, 34.95it/s]\n",
      "Epoch 117 [Validation]:   9%|▉         | 7/79 [00:00<00:01, 48.37it/s]\n",
      "Epoch 118 [Train]: 100%|██████████| 704/704 [00:20<00:00, 35.11it/s]\n",
      "Epoch 118 [Validation]:   9%|▉         | 7/79 [00:00<00:01, 48.55it/s]\n",
      "Epoch 119 [Train]: 100%|██████████| 704/704 [00:20<00:00, 35.09it/s]\n",
      "Epoch 119 [Validation]:   9%|▉         | 7/79 [00:00<00:01, 47.68it/s]\n",
      "Epoch 120 [Train]: 100%|██████████| 704/704 [00:20<00:00, 35.00it/s]\n",
      "Epoch 120 [Validation]:   9%|▉         | 7/79 [00:00<00:01, 47.16it/s]\n",
      "Epoch 121 [Train]: 100%|██████████| 704/704 [00:20<00:00, 35.08it/s]\n",
      "Epoch 121 [Validation]:   9%|▉         | 7/79 [00:00<00:01, 49.53it/s]\n",
      "Epoch 122 [Train]: 100%|██████████| 704/704 [00:20<00:00, 35.01it/s]\n",
      "Epoch 122 [Validation]:   9%|▉         | 7/79 [00:00<00:01, 47.84it/s]\n",
      "Epoch 123 [Train]: 100%|██████████| 704/704 [00:20<00:00, 34.92it/s]\n",
      "Epoch 123 [Validation]:   9%|▉         | 7/79 [00:00<00:01, 48.07it/s]\n",
      "Epoch 124 [Train]: 100%|██████████| 704/704 [00:20<00:00, 34.97it/s]\n",
      "Epoch 124 [Validation]:   9%|▉         | 7/79 [00:00<00:01, 46.84it/s]\n",
      "Epoch 125 [Train]: 100%|██████████| 704/704 [00:20<00:00, 34.95it/s]\n",
      "Epoch 125 [Validation]:   9%|▉         | 7/79 [00:00<00:01, 48.17it/s]\n",
      "Epoch 126 [Train]: 100%|██████████| 704/704 [00:20<00:00, 34.91it/s]\n",
      "Epoch 126 [Validation]:   9%|▉         | 7/79 [00:00<00:01, 46.91it/s]\n",
      "Epoch 127 [Train]: 100%|██████████| 704/704 [00:20<00:00, 35.06it/s]\n",
      "Epoch 127 [Validation]:   9%|▉         | 7/79 [00:00<00:01, 48.66it/s]\n",
      "Epoch 128 [Train]: 100%|██████████| 704/704 [00:19<00:00, 36.70it/s]\n",
      "Epoch 128 [Validation]:   9%|▉         | 7/79 [00:00<00:01, 49.63it/s]\n",
      "Epoch 129 [Train]: 100%|██████████| 704/704 [00:19<00:00, 37.02it/s]\n",
      "Epoch 129 [Validation]:   9%|▉         | 7/79 [00:00<00:01, 47.70it/s]\n",
      "Epoch 130 [Train]: 100%|██████████| 704/704 [00:18<00:00, 37.24it/s]\n",
      "Epoch 130 [Validation]:   9%|▉         | 7/79 [00:00<00:01, 48.46it/s]\n",
      "Epoch 131 [Train]: 100%|██████████| 704/704 [00:18<00:00, 37.28it/s]\n",
      "Epoch 131 [Validation]:   9%|▉         | 7/79 [00:00<00:01, 49.75it/s]\n",
      "Epoch 132 [Train]: 100%|██████████| 704/704 [00:18<00:00, 37.26it/s]\n",
      "Epoch 132 [Validation]:   9%|▉         | 7/79 [00:00<00:01, 50.41it/s]\n",
      "Epoch 133 [Train]: 100%|██████████| 704/704 [00:18<00:00, 37.26it/s]\n",
      "Epoch 133 [Validation]:   9%|▉         | 7/79 [00:00<00:01, 50.39it/s]\n",
      "Epoch 134 [Train]: 100%|██████████| 704/704 [00:18<00:00, 37.19it/s]\n",
      "Epoch 134 [Validation]:   9%|▉         | 7/79 [00:00<00:01, 50.30it/s]\n",
      "Epoch 135 [Train]: 100%|██████████| 704/704 [00:18<00:00, 37.21it/s]\n",
      "Epoch 135 [Validation]:   9%|▉         | 7/79 [00:00<00:01, 46.53it/s]\n",
      "Epoch 136 [Train]: 100%|██████████| 704/704 [00:18<00:00, 37.33it/s]\n",
      "Epoch 136 [Validation]:   9%|▉         | 7/79 [00:00<00:01, 50.28it/s]\n",
      "Epoch 137 [Train]: 100%|██████████| 704/704 [00:18<00:00, 37.23it/s]\n",
      "Epoch 137 [Validation]:   9%|▉         | 7/79 [00:00<00:01, 50.10it/s]\n",
      "Epoch 138 [Train]: 100%|██████████| 704/704 [00:18<00:00, 37.21it/s]\n",
      "Epoch 138 [Validation]:   9%|▉         | 7/79 [00:00<00:01, 49.86it/s]\n",
      "Epoch 139 [Train]: 100%|██████████| 704/704 [00:18<00:00, 37.26it/s]\n",
      "Epoch 139 [Validation]:   9%|▉         | 7/79 [00:00<00:01, 49.28it/s]\n",
      "Epoch 140 [Train]: 100%|██████████| 704/704 [00:18<00:00, 37.27it/s]\n",
      "Epoch 140 [Validation]:   9%|▉         | 7/79 [00:00<00:01, 48.24it/s]\n",
      "Epoch 141 [Train]: 100%|██████████| 704/704 [00:18<00:00, 37.28it/s]\n",
      "Epoch 141 [Validation]:   9%|▉         | 7/79 [00:00<00:01, 47.17it/s]\n",
      "Epoch 142 [Train]: 100%|██████████| 704/704 [00:18<00:00, 37.26it/s]\n",
      "Epoch 142 [Validation]:   9%|▉         | 7/79 [00:00<00:01, 49.68it/s]\n",
      "Epoch 143 [Train]: 100%|██████████| 704/704 [00:18<00:00, 37.29it/s]\n",
      "Epoch 143 [Validation]:   9%|▉         | 7/79 [00:00<00:01, 48.16it/s]\n",
      "Epoch 144 [Train]: 100%|██████████| 704/704 [00:18<00:00, 37.27it/s]\n",
      "Epoch 144 [Validation]:   9%|▉         | 7/79 [00:00<00:01, 49.67it/s]\n",
      "Epoch 145 [Train]: 100%|██████████| 704/704 [00:18<00:00, 37.29it/s]\n",
      "Epoch 145 [Validation]:   9%|▉         | 7/79 [00:00<00:01, 48.55it/s]\n",
      "Epoch 146 [Train]: 100%|██████████| 704/704 [00:18<00:00, 37.22it/s]\n",
      "Epoch 146 [Validation]:   9%|▉         | 7/79 [00:00<00:01, 51.50it/s]\n",
      "Epoch 147 [Train]: 100%|██████████| 704/704 [00:18<00:00, 37.22it/s]\n",
      "Epoch 147 [Validation]:   9%|▉         | 7/79 [00:00<00:01, 50.34it/s]\n",
      "Epoch 148 [Train]: 100%|██████████| 704/704 [00:18<00:00, 37.27it/s]\n",
      "Epoch 148 [Validation]:   9%|▉         | 7/79 [00:00<00:01, 47.46it/s]\n",
      "Epoch 149 [Train]: 100%|██████████| 704/704 [00:18<00:00, 37.19it/s]\n",
      "Epoch 149 [Validation]:   9%|▉         | 7/79 [00:00<00:01, 50.71it/s]\n",
      "Epoch 150 [Train]: 100%|██████████| 704/704 [00:18<00:00, 37.32it/s]\n",
      "Epoch 150 [Validation]:   9%|▉         | 7/79 [00:00<00:01, 48.58it/s]\n",
      "Epoch 151 [Train]: 100%|██████████| 704/704 [00:18<00:00, 37.29it/s]\n",
      "Epoch 151 [Validation]:   9%|▉         | 7/79 [00:00<00:01, 46.91it/s]\n",
      "Epoch 152 [Train]: 100%|██████████| 704/704 [00:18<00:00, 37.27it/s]\n",
      "Epoch 152 [Validation]:   9%|▉         | 7/79 [00:00<00:01, 50.20it/s]\n",
      "Epoch 153 [Train]: 100%|██████████| 704/704 [00:18<00:00, 37.29it/s]\n",
      "Epoch 153 [Validation]:   9%|▉         | 7/79 [00:00<00:01, 47.94it/s]\n",
      "Epoch 154 [Train]: 100%|██████████| 704/704 [00:18<00:00, 37.22it/s]\n",
      "Epoch 154 [Validation]:   9%|▉         | 7/79 [00:00<00:01, 50.80it/s]\n",
      "Epoch 155 [Train]: 100%|██████████| 704/704 [00:18<00:00, 37.31it/s]\n",
      "Epoch 155 [Validation]:   9%|▉         | 7/79 [00:00<00:01, 47.78it/s]\n",
      "Epoch 156 [Train]: 100%|██████████| 704/704 [00:18<00:00, 37.28it/s]\n",
      "Epoch 156 [Validation]:   9%|▉         | 7/79 [00:00<00:01, 49.35it/s]\n",
      "Epoch 157 [Train]: 100%|██████████| 704/704 [00:18<00:00, 37.19it/s]\n",
      "Epoch 157 [Validation]:   9%|▉         | 7/79 [00:00<00:01, 49.71it/s]\n",
      "Epoch 158 [Train]: 100%|██████████| 704/704 [00:18<00:00, 37.29it/s]\n",
      "Epoch 158 [Validation]:   9%|▉         | 7/79 [00:00<00:01, 51.24it/s]\n",
      "Epoch 159 [Train]: 100%|██████████| 704/704 [00:18<00:00, 37.37it/s]\n",
      "Epoch 159 [Validation]:   9%|▉         | 7/79 [00:00<00:01, 47.63it/s]\n",
      "Epoch 160 [Train]: 100%|██████████| 704/704 [00:18<00:00, 37.28it/s]\n",
      "Epoch 160 [Validation]:   9%|▉         | 7/79 [00:00<00:01, 49.59it/s]\n",
      "Epoch 161 [Train]: 100%|██████████| 704/704 [00:18<00:00, 37.32it/s]\n",
      "Epoch 161 [Validation]:   9%|▉         | 7/79 [00:00<00:01, 48.47it/s]\n",
      "Epoch 162 [Train]: 100%|██████████| 704/704 [00:18<00:00, 37.20it/s]\n",
      "Epoch 162 [Validation]:   9%|▉         | 7/79 [00:00<00:01, 47.65it/s]\n",
      "Epoch 163 [Train]: 100%|██████████| 704/704 [00:19<00:00, 36.98it/s]\n",
      "Epoch 163 [Validation]:   9%|▉         | 7/79 [00:00<00:01, 45.91it/s]\n",
      "Epoch 164 [Train]: 100%|██████████| 704/704 [00:18<00:00, 37.27it/s]\n",
      "Epoch 164 [Validation]:   9%|▉         | 7/79 [00:00<00:01, 46.80it/s]\n",
      "Epoch 165 [Train]: 100%|██████████| 704/704 [00:18<00:00, 37.35it/s]\n",
      "Epoch 165 [Validation]:   9%|▉         | 7/79 [00:00<00:01, 48.69it/s]\n",
      "Epoch 166 [Train]: 100%|██████████| 704/704 [00:18<00:00, 37.23it/s]\n",
      "Epoch 166 [Validation]:   9%|▉         | 7/79 [00:00<00:01, 48.54it/s]\n",
      "Epoch 167 [Train]: 100%|██████████| 704/704 [00:18<00:00, 37.29it/s]\n",
      "Epoch 167 [Validation]:   9%|▉         | 7/79 [00:00<00:01, 40.42it/s]\n",
      "Epoch 168 [Train]: 100%|██████████| 704/704 [00:18<00:00, 37.33it/s]\n",
      "Epoch 168 [Validation]:   9%|▉         | 7/79 [00:00<00:01, 44.79it/s]\n",
      "Epoch 169 [Train]: 100%|██████████| 704/704 [00:18<00:00, 37.31it/s]\n",
      "Epoch 169 [Validation]:   9%|▉         | 7/79 [00:00<00:01, 48.84it/s]\n",
      "Epoch 170 [Train]: 100%|██████████| 704/704 [00:18<00:00, 37.31it/s]\n",
      "Epoch 170 [Validation]:   9%|▉         | 7/79 [00:00<00:01, 49.93it/s]\n",
      "Epoch 171 [Train]: 100%|██████████| 704/704 [00:18<00:00, 37.23it/s]\n",
      "Epoch 171 [Validation]:   9%|▉         | 7/79 [00:00<00:01, 50.52it/s]\n",
      "Epoch 172 [Train]: 100%|██████████| 704/704 [00:18<00:00, 37.27it/s]\n",
      "Epoch 172 [Validation]:   9%|▉         | 7/79 [00:00<00:01, 50.40it/s]\n",
      "Epoch 173 [Train]: 100%|██████████| 704/704 [00:18<00:00, 37.32it/s]\n",
      "Epoch 173 [Validation]:   9%|▉         | 7/79 [00:00<00:01, 50.21it/s]\n",
      "Epoch 174 [Train]: 100%|██████████| 704/704 [00:18<00:00, 37.31it/s]\n",
      "Epoch 174 [Validation]:   9%|▉         | 7/79 [00:00<00:01, 49.55it/s]\n",
      "Epoch 175 [Train]: 100%|██████████| 704/704 [00:18<00:00, 37.27it/s]\n",
      "Epoch 175 [Validation]:   9%|▉         | 7/79 [00:00<00:01, 49.37it/s]\n",
      "Epoch 176 [Train]: 100%|██████████| 704/704 [00:18<00:00, 37.30it/s]\n",
      "Epoch 176 [Validation]:   9%|▉         | 7/79 [00:00<00:01, 50.32it/s]\n",
      "Epoch 177 [Train]: 100%|██████████| 704/704 [00:18<00:00, 37.29it/s]\n",
      "Epoch 177 [Validation]:   9%|▉         | 7/79 [00:00<00:01, 49.59it/s]\n",
      "Epoch 178 [Train]: 100%|██████████| 704/704 [00:18<00:00, 37.31it/s]\n",
      "Epoch 178 [Validation]:   9%|▉         | 7/79 [00:00<00:01, 49.85it/s]\n",
      "Epoch 179 [Train]: 100%|██████████| 704/704 [00:18<00:00, 37.32it/s]\n",
      "Epoch 179 [Validation]:   9%|▉         | 7/79 [00:00<00:01, 46.30it/s]\n",
      "Epoch 180 [Train]: 100%|██████████| 704/704 [00:18<00:00, 37.38it/s]\n",
      "Epoch 180 [Validation]:   9%|▉         | 7/79 [00:00<00:01, 48.84it/s]\n",
      "Epoch 181 [Train]: 100%|██████████| 704/704 [00:18<00:00, 37.40it/s]\n",
      "Epoch 181 [Validation]:   9%|▉         | 7/79 [00:00<00:01, 49.21it/s]\n",
      "Epoch 182 [Train]: 100%|██████████| 704/704 [00:18<00:00, 37.41it/s]\n",
      "Epoch 182 [Validation]:   9%|▉         | 7/79 [00:00<00:01, 49.70it/s]\n",
      "Epoch 183 [Train]: 100%|██████████| 704/704 [00:18<00:00, 37.38it/s]\n",
      "Epoch 183 [Validation]:   9%|▉         | 7/79 [00:00<00:01, 50.41it/s]\n",
      "Epoch 184 [Train]: 100%|██████████| 704/704 [00:18<00:00, 37.47it/s]\n",
      "Epoch 184 [Validation]:   9%|▉         | 7/79 [00:00<00:01, 50.12it/s]\n",
      "Epoch 185 [Train]: 100%|██████████| 704/704 [00:18<00:00, 37.45it/s]\n",
      "Epoch 185 [Validation]:   9%|▉         | 7/79 [00:00<00:01, 48.97it/s]\n",
      "Epoch 186 [Train]: 100%|██████████| 704/704 [00:18<00:00, 37.40it/s]\n",
      "Epoch 186 [Validation]:   9%|▉         | 7/79 [00:00<00:01, 49.26it/s]\n",
      "Epoch 187 [Train]: 100%|██████████| 704/704 [00:18<00:00, 37.45it/s]\n",
      "Epoch 187 [Validation]:   9%|▉         | 7/79 [00:00<00:01, 50.68it/s]\n",
      "Epoch 188 [Train]: 100%|██████████| 704/704 [00:18<00:00, 37.41it/s]\n",
      "Epoch 188 [Validation]:   9%|▉         | 7/79 [00:00<00:01, 47.73it/s]\n",
      "Epoch 189 [Train]: 100%|██████████| 704/704 [00:18<00:00, 37.44it/s]\n",
      "Epoch 189 [Validation]:   9%|▉         | 7/79 [00:00<00:01, 48.60it/s]\n",
      "Epoch 190 [Train]: 100%|██████████| 704/704 [00:18<00:00, 37.45it/s]\n",
      "Epoch 190 [Validation]:   9%|▉         | 7/79 [00:00<00:01, 48.63it/s]\n",
      "Epoch 191 [Train]: 100%|██████████| 704/704 [00:18<00:00, 37.45it/s]\n",
      "Epoch 191 [Validation]:   9%|▉         | 7/79 [00:00<00:01, 47.49it/s]\n",
      "Epoch 192 [Train]: 100%|██████████| 704/704 [00:18<00:00, 37.35it/s]\n",
      "Epoch 192 [Validation]:   9%|▉         | 7/79 [00:00<00:01, 48.02it/s]\n",
      "Epoch 193 [Train]: 100%|██████████| 704/704 [00:18<00:00, 37.48it/s]\n",
      "Epoch 193 [Validation]:   9%|▉         | 7/79 [00:00<00:01, 51.08it/s]\n",
      "Epoch 194 [Train]: 100%|██████████| 704/704 [00:18<00:00, 37.42it/s]\n",
      "Epoch 194 [Validation]:   9%|▉         | 7/79 [00:00<00:01, 45.36it/s]\n",
      "Epoch 195 [Train]: 100%|██████████| 704/704 [00:18<00:00, 37.37it/s]\n",
      "Epoch 195 [Validation]:   9%|▉         | 7/79 [00:00<00:01, 48.92it/s]\n",
      "Epoch 196 [Train]: 100%|██████████| 704/704 [00:18<00:00, 37.43it/s]\n",
      "Epoch 196 [Validation]:   9%|▉         | 7/79 [00:00<00:01, 48.45it/s]\n",
      "Epoch 197 [Train]: 100%|██████████| 704/704 [00:18<00:00, 37.42it/s]\n",
      "Epoch 197 [Validation]:   9%|▉         | 7/79 [00:00<00:01, 51.54it/s]\n",
      "Epoch 198 [Train]: 100%|██████████| 704/704 [00:18<00:00, 37.36it/s]\n",
      "Epoch 198 [Validation]:   9%|▉         | 7/79 [00:00<00:01, 46.73it/s]\n",
      "Epoch 199 [Train]: 100%|██████████| 704/704 [00:18<00:00, 37.51it/s]\n",
      "Epoch 199 [Validation]:   9%|▉         | 7/79 [00:00<00:01, 46.61it/s]\n",
      "Epoch 200 [Train]: 100%|██████████| 704/704 [00:18<00:00, 37.41it/s]\n",
      "Epoch 200 [Validation]:   9%|▉         | 7/79 [00:00<00:01, 50.21it/s]\n",
      "Epoch 201 [Train]: 100%|██████████| 704/704 [00:18<00:00, 37.42it/s]\n",
      "Epoch 201 [Validation]:   9%|▉         | 7/79 [00:00<00:01, 48.95it/s]\n",
      "Epoch 202 [Train]: 100%|██████████| 704/704 [00:18<00:00, 37.42it/s]\n",
      "Epoch 202 [Validation]:   9%|▉         | 7/79 [00:00<00:01, 43.49it/s]\n",
      "Epoch 203 [Train]: 100%|██████████| 704/704 [00:18<00:00, 37.39it/s]\n",
      "Epoch 203 [Validation]:   9%|▉         | 7/79 [00:00<00:01, 46.76it/s]\n",
      "Epoch 204 [Train]: 100%|██████████| 704/704 [00:18<00:00, 37.44it/s]\n",
      "Epoch 204 [Validation]:   9%|▉         | 7/79 [00:00<00:01, 49.52it/s]\n",
      "Epoch 205 [Train]: 100%|██████████| 704/704 [00:18<00:00, 37.36it/s]\n",
      "Epoch 205 [Validation]:   9%|▉         | 7/79 [00:00<00:01, 44.24it/s]\n",
      "Epoch 206 [Train]: 100%|██████████| 704/704 [00:18<00:00, 37.39it/s]\n",
      "Epoch 206 [Validation]:   9%|▉         | 7/79 [00:00<00:01, 48.57it/s]\n",
      "Epoch 207 [Train]: 100%|██████████| 704/704 [00:18<00:00, 37.40it/s]\n",
      "Epoch 207 [Validation]:   9%|▉         | 7/79 [00:00<00:01, 49.75it/s]\n",
      "Epoch 208 [Train]: 100%|██████████| 704/704 [00:18<00:00, 37.40it/s]\n",
      "Epoch 208 [Validation]:   9%|▉         | 7/79 [00:00<00:01, 50.39it/s]\n",
      "Epoch 209 [Train]: 100%|██████████| 704/704 [00:18<00:00, 37.41it/s]\n",
      "Epoch 209 [Validation]:   9%|▉         | 7/79 [00:00<00:01, 50.48it/s]\n",
      "Epoch 210 [Train]: 100%|██████████| 704/704 [00:18<00:00, 37.43it/s]\n",
      "Epoch 210 [Validation]:   9%|▉         | 7/79 [00:00<00:01, 49.03it/s]\n",
      "Epoch 211 [Train]: 100%|██████████| 704/704 [00:18<00:00, 37.40it/s]\n",
      "Epoch 211 [Validation]:   9%|▉         | 7/79 [00:00<00:01, 47.57it/s]\n",
      "Epoch 212 [Train]: 100%|██████████| 704/704 [00:18<00:00, 37.45it/s]\n",
      "Epoch 212 [Validation]:   9%|▉         | 7/79 [00:00<00:01, 49.09it/s]\n",
      "Epoch 213 [Train]: 100%|██████████| 704/704 [00:18<00:00, 37.41it/s]\n",
      "Epoch 213 [Validation]:   9%|▉         | 7/79 [00:00<00:01, 48.67it/s]\n",
      "Epoch 214 [Train]: 100%|██████████| 704/704 [00:18<00:00, 37.37it/s]\n",
      "Epoch 214 [Validation]:   9%|▉         | 7/79 [00:00<00:01, 49.31it/s]\n",
      "Epoch 215 [Train]: 100%|██████████| 704/704 [00:18<00:00, 37.46it/s]\n",
      "Epoch 215 [Validation]:   9%|▉         | 7/79 [00:00<00:01, 50.95it/s]\n",
      "Epoch 216 [Train]: 100%|██████████| 704/704 [00:18<00:00, 37.45it/s]\n",
      "Epoch 216 [Validation]:   9%|▉         | 7/79 [00:00<00:01, 49.96it/s]\n",
      "Epoch 217 [Train]: 100%|██████████| 704/704 [00:18<00:00, 37.33it/s]\n",
      "Epoch 217 [Validation]:   9%|▉         | 7/79 [00:00<00:01, 49.91it/s]\n",
      "Epoch 218 [Train]: 100%|██████████| 704/704 [00:18<00:00, 37.46it/s]\n",
      "Epoch 218 [Validation]:   9%|▉         | 7/79 [00:00<00:01, 48.82it/s]\n",
      "Epoch 219 [Train]: 100%|██████████| 704/704 [00:18<00:00, 37.39it/s]\n",
      "Epoch 219 [Validation]:   9%|▉         | 7/79 [00:00<00:01, 49.72it/s]\n",
      "Epoch 220 [Train]: 100%|██████████| 704/704 [00:18<00:00, 37.36it/s]\n",
      "Epoch 220 [Validation]:   9%|▉         | 7/79 [00:00<00:01, 49.00it/s]\n",
      "Epoch 221 [Train]: 100%|██████████| 704/704 [00:18<00:00, 37.45it/s]\n",
      "Epoch 221 [Validation]:   9%|▉         | 7/79 [00:00<00:01, 49.16it/s]\n",
      "Epoch 222 [Train]: 100%|██████████| 704/704 [00:18<00:00, 37.37it/s]\n",
      "Epoch 222 [Validation]:   9%|▉         | 7/79 [00:00<00:01, 49.59it/s]\n",
      "Epoch 223 [Train]: 100%|██████████| 704/704 [00:18<00:00, 37.39it/s]\n",
      "Epoch 223 [Validation]:   9%|▉         | 7/79 [00:00<00:01, 49.91it/s]\n",
      "Epoch 224 [Train]: 100%|██████████| 704/704 [00:18<00:00, 37.49it/s]\n",
      "Epoch 224 [Validation]:   9%|▉         | 7/79 [00:00<00:01, 48.52it/s]\n",
      "Epoch 225 [Train]: 100%|██████████| 704/704 [00:18<00:00, 37.40it/s]\n",
      "Epoch 225 [Validation]:   9%|▉         | 7/79 [00:00<00:01, 49.67it/s]\n",
      "Epoch 226 [Train]: 100%|██████████| 704/704 [00:18<00:00, 37.33it/s]\n",
      "Epoch 226 [Validation]:   9%|▉         | 7/79 [00:00<00:01, 49.89it/s]\n",
      "Epoch 227 [Train]:  94%|█████████▍| 660/704 [00:17<00:01, 36.94it/s]\n"
     ]
    },
    {
     "ename": "KeyboardInterrupt",
     "evalue": "",
     "output_type": "error",
     "traceback": [
      "\u001b[0;31m---------------------------------------------------------------------------\u001b[0m",
      "\u001b[0;31mKeyboardInterrupt\u001b[0m                         Traceback (most recent call last)",
      "Cell \u001b[0;32mIn[3], line 23\u001b[0m\n\u001b[1;32m     21\u001b[0m best_fid_score \u001b[38;5;241m=\u001b[39m \u001b[38;5;28mfloat\u001b[39m(\u001b[38;5;124m'\u001b[39m\u001b[38;5;124minf\u001b[39m\u001b[38;5;124m'\u001b[39m)\n\u001b[1;32m     22\u001b[0m \u001b[38;5;28;01mfor\u001b[39;00m epoch \u001b[38;5;129;01min\u001b[39;00m \u001b[38;5;28mrange\u001b[39m(\u001b[38;5;241m1\u001b[39m, epochs \u001b[38;5;241m+\u001b[39m \u001b[38;5;241m1\u001b[39m):\n\u001b[0;32m---> 23\u001b[0m     \u001b[43mtrain\u001b[49m\u001b[43m(\u001b[49m\u001b[43mmodel\u001b[49m\u001b[43m,\u001b[49m\u001b[43m \u001b[49m\u001b[43mtrain_loader\u001b[49m\u001b[43m,\u001b[49m\u001b[43m \u001b[49m\u001b[43mcriterion\u001b[49m\u001b[43m,\u001b[49m\u001b[43m \u001b[49m\u001b[43moptimizer\u001b[49m\u001b[43m,\u001b[49m\u001b[43m \u001b[49m\u001b[43mdevice\u001b[49m\u001b[43m,\u001b[49m\u001b[43m \u001b[49m\u001b[43mepoch\u001b[49m\u001b[43m,\u001b[49m\u001b[43m \u001b[49m\u001b[43mlogger\u001b[49m\u001b[43m,\u001b[49m\u001b[43m \u001b[49m\u001b[43mlog_interval\u001b[49m\u001b[43m)\u001b[49m\n\u001b[1;32m     24\u001b[0m     val_loss, fid_score \u001b[38;5;241m=\u001b[39m validate(model, val_loader, criterion, device, epoch, logger,metric)\n\u001b[1;32m     26\u001b[0m     \u001b[38;5;66;03m# Save checkpoint if validation loss improves\u001b[39;00m\n",
      "File \u001b[0;32m~/Data/UCU/GENAI/train.py:17\u001b[0m, in \u001b[0;36mtrain\u001b[0;34m(model, train_loader, criterion, optimizer, device, epoch, logger, log_interval)\u001b[0m\n\u001b[1;32m     15\u001b[0m \u001b[38;5;66;03m# Forward pass\u001b[39;00m\n\u001b[1;32m     16\u001b[0m optimizer\u001b[38;5;241m.\u001b[39mzero_grad()\n\u001b[0;32m---> 17\u001b[0m output \u001b[38;5;241m=\u001b[39m \u001b[43mmodel\u001b[49m\u001b[43m(\u001b[49m\u001b[43mdata\u001b[49m\u001b[43m)\u001b[49m\n\u001b[1;32m     18\u001b[0m loss \u001b[38;5;241m=\u001b[39m criterion(output, target)\n\u001b[1;32m     20\u001b[0m \u001b[38;5;66;03m#gan case\u001b[39;00m\n\u001b[1;32m     21\u001b[0m \u001b[38;5;66;03m# if isinstance(loss,tuple) and len(loss) == 3:\u001b[39;00m\n\u001b[1;32m     22\u001b[0m \u001b[38;5;66;03m# Backward pass and optimization\u001b[39;00m\n",
      "File \u001b[0;32m~/Data/UCU/GENAI/env/lib/python3.12/site-packages/torch/nn/modules/module.py:1736\u001b[0m, in \u001b[0;36mModule._wrapped_call_impl\u001b[0;34m(self, *args, **kwargs)\u001b[0m\n\u001b[1;32m   1734\u001b[0m     \u001b[38;5;28;01mreturn\u001b[39;00m \u001b[38;5;28mself\u001b[39m\u001b[38;5;241m.\u001b[39m_compiled_call_impl(\u001b[38;5;241m*\u001b[39margs, \u001b[38;5;241m*\u001b[39m\u001b[38;5;241m*\u001b[39mkwargs)  \u001b[38;5;66;03m# type: ignore[misc]\u001b[39;00m\n\u001b[1;32m   1735\u001b[0m \u001b[38;5;28;01melse\u001b[39;00m:\n\u001b[0;32m-> 1736\u001b[0m     \u001b[38;5;28;01mreturn\u001b[39;00m \u001b[38;5;28;43mself\u001b[39;49m\u001b[38;5;241;43m.\u001b[39;49m\u001b[43m_call_impl\u001b[49m\u001b[43m(\u001b[49m\u001b[38;5;241;43m*\u001b[39;49m\u001b[43margs\u001b[49m\u001b[43m,\u001b[49m\u001b[43m \u001b[49m\u001b[38;5;241;43m*\u001b[39;49m\u001b[38;5;241;43m*\u001b[39;49m\u001b[43mkwargs\u001b[49m\u001b[43m)\u001b[49m\n",
      "File \u001b[0;32m~/Data/UCU/GENAI/env/lib/python3.12/site-packages/torch/nn/modules/module.py:1747\u001b[0m, in \u001b[0;36mModule._call_impl\u001b[0;34m(self, *args, **kwargs)\u001b[0m\n\u001b[1;32m   1742\u001b[0m \u001b[38;5;66;03m# If we don't have any hooks, we want to skip the rest of the logic in\u001b[39;00m\n\u001b[1;32m   1743\u001b[0m \u001b[38;5;66;03m# this function, and just call forward.\u001b[39;00m\n\u001b[1;32m   1744\u001b[0m \u001b[38;5;28;01mif\u001b[39;00m \u001b[38;5;129;01mnot\u001b[39;00m (\u001b[38;5;28mself\u001b[39m\u001b[38;5;241m.\u001b[39m_backward_hooks \u001b[38;5;129;01mor\u001b[39;00m \u001b[38;5;28mself\u001b[39m\u001b[38;5;241m.\u001b[39m_backward_pre_hooks \u001b[38;5;129;01mor\u001b[39;00m \u001b[38;5;28mself\u001b[39m\u001b[38;5;241m.\u001b[39m_forward_hooks \u001b[38;5;129;01mor\u001b[39;00m \u001b[38;5;28mself\u001b[39m\u001b[38;5;241m.\u001b[39m_forward_pre_hooks\n\u001b[1;32m   1745\u001b[0m         \u001b[38;5;129;01mor\u001b[39;00m _global_backward_pre_hooks \u001b[38;5;129;01mor\u001b[39;00m _global_backward_hooks\n\u001b[1;32m   1746\u001b[0m         \u001b[38;5;129;01mor\u001b[39;00m _global_forward_hooks \u001b[38;5;129;01mor\u001b[39;00m _global_forward_pre_hooks):\n\u001b[0;32m-> 1747\u001b[0m     \u001b[38;5;28;01mreturn\u001b[39;00m \u001b[43mforward_call\u001b[49m\u001b[43m(\u001b[49m\u001b[38;5;241;43m*\u001b[39;49m\u001b[43margs\u001b[49m\u001b[43m,\u001b[49m\u001b[43m \u001b[49m\u001b[38;5;241;43m*\u001b[39;49m\u001b[38;5;241;43m*\u001b[39;49m\u001b[43mkwargs\u001b[49m\u001b[43m)\u001b[49m\n\u001b[1;32m   1749\u001b[0m result \u001b[38;5;241m=\u001b[39m \u001b[38;5;28;01mNone\u001b[39;00m\n\u001b[1;32m   1750\u001b[0m called_always_called_hooks \u001b[38;5;241m=\u001b[39m \u001b[38;5;28mset\u001b[39m()\n",
      "File \u001b[0;32m~/Data/UCU/GENAI/models.py:368\u001b[0m, in \u001b[0;36mGANModelWrapper.forward\u001b[0;34m(self, real_data)\u001b[0m\n\u001b[1;32m    366\u001b[0m z \u001b[38;5;241m=\u001b[39m torch\u001b[38;5;241m.\u001b[39mrandn(real_data\u001b[38;5;241m.\u001b[39msize(\u001b[38;5;241m0\u001b[39m), \u001b[38;5;28mself\u001b[39m\u001b[38;5;241m.\u001b[39mlatent_dim, device\u001b[38;5;241m=\u001b[39mreal_data\u001b[38;5;241m.\u001b[39mdevice)\n\u001b[1;32m    367\u001b[0m fake_data \u001b[38;5;241m=\u001b[39m \u001b[38;5;28mself\u001b[39m\u001b[38;5;241m.\u001b[39mgenerator(z)\u001b[38;5;241m.\u001b[39mdetach()  \u001b[38;5;66;03m# Detach to avoid generator gradient update\u001b[39;00m\n\u001b[0;32m--> 368\u001b[0m real_output \u001b[38;5;241m=\u001b[39m \u001b[38;5;28;43mself\u001b[39;49m\u001b[38;5;241;43m.\u001b[39;49m\u001b[43mdiscriminator\u001b[49m\u001b[43m(\u001b[49m\u001b[43mreal_data\u001b[49m\u001b[43m)\u001b[49m\n\u001b[1;32m    369\u001b[0m fake_output \u001b[38;5;241m=\u001b[39m \u001b[38;5;28mself\u001b[39m\u001b[38;5;241m.\u001b[39mdiscriminator(fake_data)\n\u001b[1;32m    370\u001b[0m \u001b[38;5;28mself\u001b[39m\u001b[38;5;241m.\u001b[39mtrain_step \u001b[38;5;241m+\u001b[39m\u001b[38;5;241m=\u001b[39m \u001b[38;5;241m1\u001b[39m\n",
      "File \u001b[0;32m~/Data/UCU/GENAI/env/lib/python3.12/site-packages/torch/nn/modules/module.py:1736\u001b[0m, in \u001b[0;36mModule._wrapped_call_impl\u001b[0;34m(self, *args, **kwargs)\u001b[0m\n\u001b[1;32m   1734\u001b[0m     \u001b[38;5;28;01mreturn\u001b[39;00m \u001b[38;5;28mself\u001b[39m\u001b[38;5;241m.\u001b[39m_compiled_call_impl(\u001b[38;5;241m*\u001b[39margs, \u001b[38;5;241m*\u001b[39m\u001b[38;5;241m*\u001b[39mkwargs)  \u001b[38;5;66;03m# type: ignore[misc]\u001b[39;00m\n\u001b[1;32m   1735\u001b[0m \u001b[38;5;28;01melse\u001b[39;00m:\n\u001b[0;32m-> 1736\u001b[0m     \u001b[38;5;28;01mreturn\u001b[39;00m \u001b[38;5;28;43mself\u001b[39;49m\u001b[38;5;241;43m.\u001b[39;49m\u001b[43m_call_impl\u001b[49m\u001b[43m(\u001b[49m\u001b[38;5;241;43m*\u001b[39;49m\u001b[43margs\u001b[49m\u001b[43m,\u001b[49m\u001b[43m \u001b[49m\u001b[38;5;241;43m*\u001b[39;49m\u001b[38;5;241;43m*\u001b[39;49m\u001b[43mkwargs\u001b[49m\u001b[43m)\u001b[49m\n",
      "File \u001b[0;32m~/Data/UCU/GENAI/env/lib/python3.12/site-packages/torch/nn/modules/module.py:1747\u001b[0m, in \u001b[0;36mModule._call_impl\u001b[0;34m(self, *args, **kwargs)\u001b[0m\n\u001b[1;32m   1742\u001b[0m \u001b[38;5;66;03m# If we don't have any hooks, we want to skip the rest of the logic in\u001b[39;00m\n\u001b[1;32m   1743\u001b[0m \u001b[38;5;66;03m# this function, and just call forward.\u001b[39;00m\n\u001b[1;32m   1744\u001b[0m \u001b[38;5;28;01mif\u001b[39;00m \u001b[38;5;129;01mnot\u001b[39;00m (\u001b[38;5;28mself\u001b[39m\u001b[38;5;241m.\u001b[39m_backward_hooks \u001b[38;5;129;01mor\u001b[39;00m \u001b[38;5;28mself\u001b[39m\u001b[38;5;241m.\u001b[39m_backward_pre_hooks \u001b[38;5;129;01mor\u001b[39;00m \u001b[38;5;28mself\u001b[39m\u001b[38;5;241m.\u001b[39m_forward_hooks \u001b[38;5;129;01mor\u001b[39;00m \u001b[38;5;28mself\u001b[39m\u001b[38;5;241m.\u001b[39m_forward_pre_hooks\n\u001b[1;32m   1745\u001b[0m         \u001b[38;5;129;01mor\u001b[39;00m _global_backward_pre_hooks \u001b[38;5;129;01mor\u001b[39;00m _global_backward_hooks\n\u001b[1;32m   1746\u001b[0m         \u001b[38;5;129;01mor\u001b[39;00m _global_forward_hooks \u001b[38;5;129;01mor\u001b[39;00m _global_forward_pre_hooks):\n\u001b[0;32m-> 1747\u001b[0m     \u001b[38;5;28;01mreturn\u001b[39;00m \u001b[43mforward_call\u001b[49m\u001b[43m(\u001b[49m\u001b[38;5;241;43m*\u001b[39;49m\u001b[43margs\u001b[49m\u001b[43m,\u001b[49m\u001b[43m \u001b[49m\u001b[38;5;241;43m*\u001b[39;49m\u001b[38;5;241;43m*\u001b[39;49m\u001b[43mkwargs\u001b[49m\u001b[43m)\u001b[49m\n\u001b[1;32m   1749\u001b[0m result \u001b[38;5;241m=\u001b[39m \u001b[38;5;28;01mNone\u001b[39;00m\n\u001b[1;32m   1750\u001b[0m called_always_called_hooks \u001b[38;5;241m=\u001b[39m \u001b[38;5;28mset\u001b[39m()\n",
      "File \u001b[0;32m~/Data/UCU/GENAI/models.py:349\u001b[0m, in \u001b[0;36mDiscriminator.forward\u001b[0;34m(self, x)\u001b[0m\n\u001b[1;32m    348\u001b[0m \u001b[38;5;28;01mdef\u001b[39;00m \u001b[38;5;21mforward\u001b[39m(\u001b[38;5;28mself\u001b[39m, x):\n\u001b[0;32m--> 349\u001b[0m     features \u001b[38;5;241m=\u001b[39m \u001b[38;5;28;43mself\u001b[39;49m\u001b[38;5;241;43m.\u001b[39;49m\u001b[43mfeature_extractor\u001b[49m\u001b[43m(\u001b[49m\u001b[43mx\u001b[49m\u001b[43m)\u001b[49m\n\u001b[1;32m    350\u001b[0m     \u001b[38;5;28;01mreturn\u001b[39;00m \u001b[38;5;28mself\u001b[39m\u001b[38;5;241m.\u001b[39mclassifier(features)\n",
      "File \u001b[0;32m~/Data/UCU/GENAI/env/lib/python3.12/site-packages/torch/nn/modules/module.py:1736\u001b[0m, in \u001b[0;36mModule._wrapped_call_impl\u001b[0;34m(self, *args, **kwargs)\u001b[0m\n\u001b[1;32m   1734\u001b[0m     \u001b[38;5;28;01mreturn\u001b[39;00m \u001b[38;5;28mself\u001b[39m\u001b[38;5;241m.\u001b[39m_compiled_call_impl(\u001b[38;5;241m*\u001b[39margs, \u001b[38;5;241m*\u001b[39m\u001b[38;5;241m*\u001b[39mkwargs)  \u001b[38;5;66;03m# type: ignore[misc]\u001b[39;00m\n\u001b[1;32m   1735\u001b[0m \u001b[38;5;28;01melse\u001b[39;00m:\n\u001b[0;32m-> 1736\u001b[0m     \u001b[38;5;28;01mreturn\u001b[39;00m \u001b[38;5;28;43mself\u001b[39;49m\u001b[38;5;241;43m.\u001b[39;49m\u001b[43m_call_impl\u001b[49m\u001b[43m(\u001b[49m\u001b[38;5;241;43m*\u001b[39;49m\u001b[43margs\u001b[49m\u001b[43m,\u001b[49m\u001b[43m \u001b[49m\u001b[38;5;241;43m*\u001b[39;49m\u001b[38;5;241;43m*\u001b[39;49m\u001b[43mkwargs\u001b[49m\u001b[43m)\u001b[49m\n",
      "File \u001b[0;32m~/Data/UCU/GENAI/env/lib/python3.12/site-packages/torch/nn/modules/module.py:1747\u001b[0m, in \u001b[0;36mModule._call_impl\u001b[0;34m(self, *args, **kwargs)\u001b[0m\n\u001b[1;32m   1742\u001b[0m \u001b[38;5;66;03m# If we don't have any hooks, we want to skip the rest of the logic in\u001b[39;00m\n\u001b[1;32m   1743\u001b[0m \u001b[38;5;66;03m# this function, and just call forward.\u001b[39;00m\n\u001b[1;32m   1744\u001b[0m \u001b[38;5;28;01mif\u001b[39;00m \u001b[38;5;129;01mnot\u001b[39;00m (\u001b[38;5;28mself\u001b[39m\u001b[38;5;241m.\u001b[39m_backward_hooks \u001b[38;5;129;01mor\u001b[39;00m \u001b[38;5;28mself\u001b[39m\u001b[38;5;241m.\u001b[39m_backward_pre_hooks \u001b[38;5;129;01mor\u001b[39;00m \u001b[38;5;28mself\u001b[39m\u001b[38;5;241m.\u001b[39m_forward_hooks \u001b[38;5;129;01mor\u001b[39;00m \u001b[38;5;28mself\u001b[39m\u001b[38;5;241m.\u001b[39m_forward_pre_hooks\n\u001b[1;32m   1745\u001b[0m         \u001b[38;5;129;01mor\u001b[39;00m _global_backward_pre_hooks \u001b[38;5;129;01mor\u001b[39;00m _global_backward_hooks\n\u001b[1;32m   1746\u001b[0m         \u001b[38;5;129;01mor\u001b[39;00m _global_forward_hooks \u001b[38;5;129;01mor\u001b[39;00m _global_forward_pre_hooks):\n\u001b[0;32m-> 1747\u001b[0m     \u001b[38;5;28;01mreturn\u001b[39;00m \u001b[43mforward_call\u001b[49m\u001b[43m(\u001b[49m\u001b[38;5;241;43m*\u001b[39;49m\u001b[43margs\u001b[49m\u001b[43m,\u001b[49m\u001b[43m \u001b[49m\u001b[38;5;241;43m*\u001b[39;49m\u001b[38;5;241;43m*\u001b[39;49m\u001b[43mkwargs\u001b[49m\u001b[43m)\u001b[49m\n\u001b[1;32m   1749\u001b[0m result \u001b[38;5;241m=\u001b[39m \u001b[38;5;28;01mNone\u001b[39;00m\n\u001b[1;32m   1750\u001b[0m called_always_called_hooks \u001b[38;5;241m=\u001b[39m \u001b[38;5;28mset\u001b[39m()\n",
      "File \u001b[0;32m~/Data/UCU/GENAI/env/lib/python3.12/site-packages/torch/nn/modules/container.py:250\u001b[0m, in \u001b[0;36mSequential.forward\u001b[0;34m(self, input)\u001b[0m\n\u001b[1;32m    248\u001b[0m \u001b[38;5;28;01mdef\u001b[39;00m \u001b[38;5;21mforward\u001b[39m(\u001b[38;5;28mself\u001b[39m, \u001b[38;5;28minput\u001b[39m):\n\u001b[1;32m    249\u001b[0m     \u001b[38;5;28;01mfor\u001b[39;00m module \u001b[38;5;129;01min\u001b[39;00m \u001b[38;5;28mself\u001b[39m:\n\u001b[0;32m--> 250\u001b[0m         \u001b[38;5;28minput\u001b[39m \u001b[38;5;241m=\u001b[39m \u001b[43mmodule\u001b[49m\u001b[43m(\u001b[49m\u001b[38;5;28;43minput\u001b[39;49m\u001b[43m)\u001b[49m\n\u001b[1;32m    251\u001b[0m     \u001b[38;5;28;01mreturn\u001b[39;00m \u001b[38;5;28minput\u001b[39m\n",
      "File \u001b[0;32m~/Data/UCU/GENAI/env/lib/python3.12/site-packages/torch/nn/modules/module.py:1736\u001b[0m, in \u001b[0;36mModule._wrapped_call_impl\u001b[0;34m(self, *args, **kwargs)\u001b[0m\n\u001b[1;32m   1734\u001b[0m     \u001b[38;5;28;01mreturn\u001b[39;00m \u001b[38;5;28mself\u001b[39m\u001b[38;5;241m.\u001b[39m_compiled_call_impl(\u001b[38;5;241m*\u001b[39margs, \u001b[38;5;241m*\u001b[39m\u001b[38;5;241m*\u001b[39mkwargs)  \u001b[38;5;66;03m# type: ignore[misc]\u001b[39;00m\n\u001b[1;32m   1735\u001b[0m \u001b[38;5;28;01melse\u001b[39;00m:\n\u001b[0;32m-> 1736\u001b[0m     \u001b[38;5;28;01mreturn\u001b[39;00m \u001b[38;5;28;43mself\u001b[39;49m\u001b[38;5;241;43m.\u001b[39;49m\u001b[43m_call_impl\u001b[49m\u001b[43m(\u001b[49m\u001b[38;5;241;43m*\u001b[39;49m\u001b[43margs\u001b[49m\u001b[43m,\u001b[49m\u001b[43m \u001b[49m\u001b[38;5;241;43m*\u001b[39;49m\u001b[38;5;241;43m*\u001b[39;49m\u001b[43mkwargs\u001b[49m\u001b[43m)\u001b[49m\n",
      "File \u001b[0;32m~/Data/UCU/GENAI/env/lib/python3.12/site-packages/torch/nn/modules/module.py:1747\u001b[0m, in \u001b[0;36mModule._call_impl\u001b[0;34m(self, *args, **kwargs)\u001b[0m\n\u001b[1;32m   1742\u001b[0m \u001b[38;5;66;03m# If we don't have any hooks, we want to skip the rest of the logic in\u001b[39;00m\n\u001b[1;32m   1743\u001b[0m \u001b[38;5;66;03m# this function, and just call forward.\u001b[39;00m\n\u001b[1;32m   1744\u001b[0m \u001b[38;5;28;01mif\u001b[39;00m \u001b[38;5;129;01mnot\u001b[39;00m (\u001b[38;5;28mself\u001b[39m\u001b[38;5;241m.\u001b[39m_backward_hooks \u001b[38;5;129;01mor\u001b[39;00m \u001b[38;5;28mself\u001b[39m\u001b[38;5;241m.\u001b[39m_backward_pre_hooks \u001b[38;5;129;01mor\u001b[39;00m \u001b[38;5;28mself\u001b[39m\u001b[38;5;241m.\u001b[39m_forward_hooks \u001b[38;5;129;01mor\u001b[39;00m \u001b[38;5;28mself\u001b[39m\u001b[38;5;241m.\u001b[39m_forward_pre_hooks\n\u001b[1;32m   1745\u001b[0m         \u001b[38;5;129;01mor\u001b[39;00m _global_backward_pre_hooks \u001b[38;5;129;01mor\u001b[39;00m _global_backward_hooks\n\u001b[1;32m   1746\u001b[0m         \u001b[38;5;129;01mor\u001b[39;00m _global_forward_hooks \u001b[38;5;129;01mor\u001b[39;00m _global_forward_pre_hooks):\n\u001b[0;32m-> 1747\u001b[0m     \u001b[38;5;28;01mreturn\u001b[39;00m \u001b[43mforward_call\u001b[49m\u001b[43m(\u001b[49m\u001b[38;5;241;43m*\u001b[39;49m\u001b[43margs\u001b[49m\u001b[43m,\u001b[49m\u001b[43m \u001b[49m\u001b[38;5;241;43m*\u001b[39;49m\u001b[38;5;241;43m*\u001b[39;49m\u001b[43mkwargs\u001b[49m\u001b[43m)\u001b[49m\n\u001b[1;32m   1749\u001b[0m result \u001b[38;5;241m=\u001b[39m \u001b[38;5;28;01mNone\u001b[39;00m\n\u001b[1;32m   1750\u001b[0m called_always_called_hooks \u001b[38;5;241m=\u001b[39m \u001b[38;5;28mset\u001b[39m()\n",
      "File \u001b[0;32m~/Data/UCU/GENAI/env/lib/python3.12/site-packages/torch/nn/modules/conv.py:554\u001b[0m, in \u001b[0;36mConv2d.forward\u001b[0;34m(self, input)\u001b[0m\n\u001b[1;32m    553\u001b[0m \u001b[38;5;28;01mdef\u001b[39;00m \u001b[38;5;21mforward\u001b[39m(\u001b[38;5;28mself\u001b[39m, \u001b[38;5;28minput\u001b[39m: Tensor) \u001b[38;5;241m-\u001b[39m\u001b[38;5;241m>\u001b[39m Tensor:\n\u001b[0;32m--> 554\u001b[0m     \u001b[38;5;28;01mreturn\u001b[39;00m \u001b[38;5;28;43mself\u001b[39;49m\u001b[38;5;241;43m.\u001b[39;49m\u001b[43m_conv_forward\u001b[49m\u001b[43m(\u001b[49m\u001b[38;5;28;43minput\u001b[39;49m\u001b[43m,\u001b[49m\u001b[43m \u001b[49m\u001b[38;5;28;43mself\u001b[39;49m\u001b[38;5;241;43m.\u001b[39;49m\u001b[43mweight\u001b[49m\u001b[43m,\u001b[49m\u001b[43m \u001b[49m\u001b[38;5;28;43mself\u001b[39;49m\u001b[38;5;241;43m.\u001b[39;49m\u001b[43mbias\u001b[49m\u001b[43m)\u001b[49m\n",
      "File \u001b[0;32m~/Data/UCU/GENAI/env/lib/python3.12/site-packages/torch/nn/modules/conv.py:549\u001b[0m, in \u001b[0;36mConv2d._conv_forward\u001b[0;34m(self, input, weight, bias)\u001b[0m\n\u001b[1;32m    537\u001b[0m \u001b[38;5;28;01mif\u001b[39;00m \u001b[38;5;28mself\u001b[39m\u001b[38;5;241m.\u001b[39mpadding_mode \u001b[38;5;241m!=\u001b[39m \u001b[38;5;124m\"\u001b[39m\u001b[38;5;124mzeros\u001b[39m\u001b[38;5;124m\"\u001b[39m:\n\u001b[1;32m    538\u001b[0m     \u001b[38;5;28;01mreturn\u001b[39;00m F\u001b[38;5;241m.\u001b[39mconv2d(\n\u001b[1;32m    539\u001b[0m         F\u001b[38;5;241m.\u001b[39mpad(\n\u001b[1;32m    540\u001b[0m             \u001b[38;5;28minput\u001b[39m, \u001b[38;5;28mself\u001b[39m\u001b[38;5;241m.\u001b[39m_reversed_padding_repeated_twice, mode\u001b[38;5;241m=\u001b[39m\u001b[38;5;28mself\u001b[39m\u001b[38;5;241m.\u001b[39mpadding_mode\n\u001b[0;32m   (...)\u001b[0m\n\u001b[1;32m    547\u001b[0m         \u001b[38;5;28mself\u001b[39m\u001b[38;5;241m.\u001b[39mgroups,\n\u001b[1;32m    548\u001b[0m     )\n\u001b[0;32m--> 549\u001b[0m \u001b[38;5;28;01mreturn\u001b[39;00m \u001b[43mF\u001b[49m\u001b[38;5;241;43m.\u001b[39;49m\u001b[43mconv2d\u001b[49m\u001b[43m(\u001b[49m\n\u001b[1;32m    550\u001b[0m \u001b[43m    \u001b[49m\u001b[38;5;28;43minput\u001b[39;49m\u001b[43m,\u001b[49m\u001b[43m \u001b[49m\u001b[43mweight\u001b[49m\u001b[43m,\u001b[49m\u001b[43m \u001b[49m\u001b[43mbias\u001b[49m\u001b[43m,\u001b[49m\u001b[43m \u001b[49m\u001b[38;5;28;43mself\u001b[39;49m\u001b[38;5;241;43m.\u001b[39;49m\u001b[43mstride\u001b[49m\u001b[43m,\u001b[49m\u001b[43m \u001b[49m\u001b[38;5;28;43mself\u001b[39;49m\u001b[38;5;241;43m.\u001b[39;49m\u001b[43mpadding\u001b[49m\u001b[43m,\u001b[49m\u001b[43m \u001b[49m\u001b[38;5;28;43mself\u001b[39;49m\u001b[38;5;241;43m.\u001b[39;49m\u001b[43mdilation\u001b[49m\u001b[43m,\u001b[49m\u001b[43m \u001b[49m\u001b[38;5;28;43mself\u001b[39;49m\u001b[38;5;241;43m.\u001b[39;49m\u001b[43mgroups\u001b[49m\n\u001b[1;32m    551\u001b[0m \u001b[43m\u001b[49m\u001b[43m)\u001b[49m\n",
      "\u001b[0;31mKeyboardInterrupt\u001b[0m: "
     ]
    }
   ],
   "source": [
    "# Hyperparameters\n",
    "epochs = 1000\n",
    "learning_rate = 1e-5\n",
    "log_interval = 100\n",
    "\n",
    "generator = Generator()\n",
    "discriminator = Discriminator()\n",
    "\n",
    "# Device configuration\n",
    "device = torch.device(\"cuda\" if torch.cuda.is_available() else \"cpu\")\n",
    "metric = FIDMetric(device)\n",
    "\n",
    "# Model, loss function, and optimizer\n",
    "model = GANModelWrapper(generator, discriminator).to(device)  # Example model; replace with any model\n",
    "criterion = GANCriterion()\n",
    "optimizer = GANOptimizer(generator, discriminator,lr=learning_rate)\n",
    "# TensorBoard writer\n",
    "logger = GAN_LOGGER(SummaryWriter())\n",
    "\n",
    "# Training loop\n",
    "best_fid_score = float('inf')\n",
    "for epoch in range(1, epochs + 1):\n",
    "    train(model, train_loader, criterion, optimizer, device, epoch, logger, log_interval)\n",
    "    val_loss, fid_score = validate(model, val_loader, criterion, device, epoch, logger,metric)\n",
    "    \n",
    "    # Save checkpoint if validation loss improves\n",
    "    if fid_score < best_fid_score:\n",
    "        print(f\"Validation loss improved from {best_fid_score:.4f} to {fid_score:.4f}. Saving model...\")\n",
    "        best_fid_score = fid_score\n",
    "        save_checkpoint(model)"
   ]
  },
  {
   "cell_type": "code",
   "execution_count": 3,
   "metadata": {},
   "outputs": [
    {
     "name": "stderr",
     "output_type": "stream",
     "text": [
      "/tmp/ipykernel_888769/2858255769.py:7: FutureWarning: You are using `torch.load` with `weights_only=False` (the current default value), which uses the default pickle module implicitly. It is possible to construct malicious pickle data which will execute arbitrary code during unpickling (See https://github.com/pytorch/pytorch/blob/main/SECURITY.md#untrusted-models for more details). In a future release, the default value for `weights_only` will be flipped to `True`. This limits the functions that could be executed during unpickling. Arbitrary objects will no longer be allowed to be loaded via this mode unless they are explicitly allowlisted by the user via `torch.serialization.add_safe_globals`. We recommend you start setting `weights_only=True` for any use case where you don't have full control of the loaded file. Please open an issue on GitHub for any issues related to this experimental feature.\n",
      "  checkpoint = torch.load(best_checkpoint_path, map_location=device)\n"
     ]
    }
   ],
   "source": [
    "# First cell - Initialize model and load checkpoint\n",
    "device = torch.device(\"cuda\" if torch.cuda.is_available() else \"cpu\")\n",
    "best_checkpoint_path = \"saved_model/best_model.pth\"\n",
    "generator = Generator()\n",
    "discriminator = Discriminator()\n",
    "model = GANModelWrapper(generator,discriminator).to(device)\n",
    "checkpoint = torch.load(best_checkpoint_path, map_location=device)\n",
    "model.load_state_dict(checkpoint)\n",
    "model.eval();"
   ]
  },
  {
   "cell_type": "code",
   "execution_count": 4,
   "metadata": {},
   "outputs": [],
   "source": [
    "# Second cell - Get test images\n",
    "test_images = []\n",
    "for batch, _ in test_loader:\n",
    "    test_images.append(batch)\n",
    "    if len(torch.cat(test_images)) >= 2000:\n",
    "        break\n",
    "test_images = torch.cat(test_images)[:2000]"
   ]
  },
  {
   "cell_type": "code",
   "execution_count": 21,
   "metadata": {},
   "outputs": [],
   "source": [
    "# Third cell - Generate images\n",
    "generated_images = []\n",
    "batch_size = 64\n",
    "\n",
    "with torch.no_grad():\n",
    "    for i in range(0, 2000, batch_size):\n",
    "        curr_batch_size = min(batch_size, 2000 - i)\n",
    "        gen_batch = model.generate(curr_batch_size, device=device)\n",
    "        generated_images.append(gen_batch)\n",
    "\n",
    "generated_images = torch.cat(generated_images)"
   ]
  },
  {
   "cell_type": "code",
   "execution_count": 22,
   "metadata": {},
   "outputs": [
    {
     "name": "stdout",
     "output_type": "stream",
     "text": [
      "FID Score: 156.61\n"
     ]
    }
   ],
   "source": [
    "# Fourth cell - Compute FID\n",
    "metric = FIDMetric(device)\n",
    "fid_score = metric(test_images, generated_images)\n",
    "print(f\"FID Score: {fid_score:.2f}\")"
   ]
  },
  {
   "cell_type": "code",
   "execution_count": 14,
   "metadata": {},
   "outputs": [
    {
     "data": {
      "image/png": "[encoded data removed]",
      "text/plain": [
       "<Figure size 600x600 with 1 Axes>"
      ]
     },
     "metadata": {},
     "output_type": "display_data"
    }
   ],
   "source": [
    "# Fifth cell - Visualize 16 random samples\n",
    "import random\n",
    "from torchvision.utils import make_grid\n",
    "import matplotlib.pyplot as plt\n",
    "\n",
    "# Get 16 random indices\n",
    "indices = random.sample(range(len(generated_images)), 16)\n",
    "vis_samples = generated_images[indices]\n",
    "\n",
    "# Create and display grid\n",
    "grid = make_grid(vis_samples, nrow=4, padding=2, normalize=True)\n",
    "plt.figure(figsize=(6, 6))\n",
    "plt.imshow(grid.cpu().permute(1, 2, 0).numpy())\n",
    "plt.axis('off')\n",
    "plt.title(f'Random Generated Samples (FID: {fid_score:.2f})')\n",
    "plt.show()"
   ]
  },
  {
   "cell_type": "code",
   "execution_count": null,
   "metadata": {},
   "outputs": [],
   "source": []
  }
 ],
 "metadata": {
  "kernelspec": {
   "display_name": "env",
   "language": "python",
   "name": "python3"
  },
  "language_info": {
   "codemirror_mode": {
    "name": "ipython",
    "version": 3
   },
   "file_extension": ".py",
   "mimetype": "text/x-python",
   "name": "python",
   "nbconvert_exporter": "python",
   "pygments_lexer": "ipython3",
   "version": "3.12.7"
  }
 },
 "nbformat": 4,
 "nbformat_minor": 2
}
